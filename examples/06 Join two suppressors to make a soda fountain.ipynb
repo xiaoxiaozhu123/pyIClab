{
 "cells": [
  {
   "cell_type": "code",
   "execution_count": 1,
   "id": "f0461ba9",
   "metadata": {},
   "outputs": [
    {
     "data": {
      "text/plain": [
       "'2024.6.6.1'"
      ]
     },
     "execution_count": 1,
     "metadata": {},
     "output_type": "execute_result"
    }
   ],
   "source": [
    "from pyIClab import Eluent, Detector\n",
    "from pyIClab import ContaminatedPhreeqcSuppressor as Suppressor\n",
    "from pyIClab import __version__ as pyIClab__version__\n",
    "import pint\n",
    "\n",
    "pyIClab__version__"
   ]
  },
  {
   "cell_type": "code",
   "execution_count": 2,
   "id": "d4b90639",
   "metadata": {},
   "outputs": [
    {
     "name": "stdout",
     "output_type": "stream",
     "text": [
      "<Eluent \"DirtyEluent\" Isocratic(Na[+1]: 2.0 mM, SO4[-2]: 1.0 mM) in 10 min> -> <Detector \"FrontDetector\"> -> <Suppressor \"AionSuppressor\"> -> <Suppressor \"CationSuppressor\"> -> <Detector \"RearDetector\"> -> <Waste>\n",
      "Flow Rate: 1.0 mL/min\n"
     ]
    }
   ],
   "source": [
    "# Don't do it in the real world\n",
    "# They just interfere with each other\n",
    "# feel free to replace Na2SO4 with any salts\n",
    "eluent = Eluent('DirtyEluent', profile={'Na+': '2 mM', 'SO4-2': '1 mM'})\n",
    "d1 = Detector('FrontDetector', freq='5 Hz')\n",
    "d2 = Detector('RearDetector', freq='5 Hz')\n",
    "s1 = Suppressor('AionSuppressor', kind='anion', _CO2_level=0.1)\n",
    "s2 = Suppressor('CationSuppressor', kind='cation', _CO2_level=0.1)\n",
    "eluent.assemble(d1)\n",
    "d1.assemble(s1)\n",
    "s1.assemble(s2)\n",
    "s2.assemble(d2)\n",
    "print(eluent.repr_flow_line())"
   ]
  },
  {
   "cell_type": "code",
   "execution_count": 3,
   "id": "b4cc64f1",
   "metadata": {},
   "outputs": [
    {
     "data": {
      "application/vnd.jupyter.widget-view+json": {
       "model_id": "",
       "version_major": 2,
       "version_minor": 0
      },
      "text/plain": [
       "Suppressing eluent on <Suppressor \"AionSuppressor\">...:   0%|          | 0/8000 [00:00<?, ?it/s]"
      ]
     },
     "metadata": {},
     "output_type": "display_data"
    },
    {
     "data": {
      "application/vnd.jupyter.widget-view+json": {
       "model_id": "",
       "version_major": 2,
       "version_minor": 0
      },
      "text/plain": [
       "Suppressing eluent on <Suppressor \"CationSuppressor\">...:   0%|          | 0/8000 [00:00<?, ?it/s]"
      ]
     },
     "metadata": {},
     "output_type": "display_data"
    }
   ],
   "source": [
    "eluent._cur_time = pint.Quantity('2.0 min')\n",
    "for accessory in eluent.flow_line[1:]:\n",
    "    accessory.flush()"
   ]
  },
  {
   "cell_type": "code",
   "execution_count": 4,
   "id": "91fe2de3",
   "metadata": {},
   "outputs": [
    {
     "data": {
      "application/vnd.jupyter.widget-view+json": {
       "model_id": "",
       "version_major": 2,
       "version_minor": 0
      },
      "text/plain": [
       "Calculating eluent conductivity on <Detector \"FrontDetector\">...:   0%|          | 0/30 [00:00<?, ?it/s]"
      ]
     },
     "metadata": {},
     "output_type": "display_data"
    },
    {
     "name": "stdout",
     "output_type": "stream",
     "text": [
      "Conductivity of Effluent from <Detector \"FrontDetector\">: 268.627 μS/cm\n",
      "Compoments: Na[+1], SO4[-2]\n"
     ]
    }
   ],
   "source": [
    "x, y = d1.get_signals(signal_type='conductivity', tmax=0.1).to_numpy().T\n",
    "print(f'Conductivity of Effluent from {d1}: {y[0]:.3f} μS/cm')\n",
    "print(f'Compoments: {\", \".join(d1(0).keys())}')"
   ]
  },
  {
   "cell_type": "code",
   "execution_count": 5,
   "id": "0fef1e1a",
   "metadata": {},
   "outputs": [
    {
     "data": {
      "application/vnd.jupyter.widget-view+json": {
       "model_id": "",
       "version_major": 2,
       "version_minor": 0
      },
      "text/plain": [
       "Calculating eluent conductivity on <Detector \"RearDetector\">...:   0%|          | 0/30 [00:00<?, ?it/s]"
      ]
     },
     "metadata": {},
     "output_type": "display_data"
    },
    {
     "name": "stdout",
     "output_type": "stream",
     "text": [
      "Conductivity from Effluent of <Detector \"RearDetector\">: 4.160 μS/cm\n",
      "Compoments: H[+1], CO2, OH[-1], HCO3[-1], CO3[-2]\n"
     ]
    }
   ],
   "source": [
    "x, y = d2.get_signals(signal_type='conductivity', tmax=0.1).to_numpy().T\n",
    "print(f'Conductivity from Effluent of {d2}: {y[0]:.3f} μS/cm')\n",
    "print(f'Compoments: {\", \".join(d2(0).keys())}')"
   ]
  }
 ],
 "metadata": {
  "kernelspec": {
   "display_name": "Python 3 (ipykernel)",
   "language": "python",
   "name": "python3"
  },
  "language_info": {
   "codemirror_mode": {
    "name": "ipython",
    "version": 3
   },
   "file_extension": ".py",
   "mimetype": "text/x-python",
   "name": "python",
   "nbconvert_exporter": "python",
   "pygments_lexer": "ipython3",
   "version": "3.11.7"
  }
 },
 "nbformat": 4,
 "nbformat_minor": 5
}
